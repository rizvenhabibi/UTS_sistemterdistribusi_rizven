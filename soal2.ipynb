{
  "nbformat": 4,
  "nbformat_minor": 0,
  "metadata": {
    "colab": {
      "provenance": [],
      "authorship_tag": "ABX9TyMJKuEdQYulbZt5+91IwUtc",
      "include_colab_link": true
    },
    "kernelspec": {
      "name": "python3",
      "display_name": "Python 3"
    },
    "language_info": {
      "name": "python"
    }
  },
  "cells": [
    {
      "cell_type": "markdown",
      "metadata": {
        "id": "view-in-github",
        "colab_type": "text"
      },
      "source": [
        "<a href=\"https://colab.research.google.com/github/rizvenhabibi/UTS_sistemterdistribusi_rizven/blob/main/soal2.ipynb\" target=\"_parent\"><img src=\"https://colab.research.google.com/assets/colab-badge.svg\" alt=\"Open In Colab\"/></a>"
      ]
    },
    {
      "cell_type": "code",
      "execution_count": 1,
      "metadata": {
        "colab": {
          "base_uri": "https://localhost:8080/"
        },
        "id": "229yHNhWGll-",
        "outputId": "d142e535-1efc-4fc9-e059-a2e8236de679"
      },
      "outputs": [
        {
          "output_type": "stream",
          "name": "stdout",
          "text": [
            "3\n",
            "123"
          ]
        }
      ],
      "source": [
        "if __name__ == '__main__':\n",
        "    n = int(input().strip())\n",
        "    if 1 <= n <= 150:\n",
        "        for i in range(1, n + 1):\n",
        "            print(i,end='')\n",
        "    else:\n",
        "        print(\"Angka lebih dari 150\")"
      ]
    }
  ]
}